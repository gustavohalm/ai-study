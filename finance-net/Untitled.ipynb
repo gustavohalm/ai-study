{
 "cells": [
  {
   "cell_type": "code",
   "execution_count": null,
   "id": "f68c2e6a-25b5-46c6-b4be-2c8cf023e1de",
   "metadata": {},
   "outputs": [],
   "source": []
  }
 ],
 "metadata": {
  "kernelspec": {
   "display_name": "",
   "name": ""
  },
  "language_info": {
   "name": ""
  }
 },
 "nbformat": 4,
 "nbformat_minor": 5
}
