{
 "cells": [
  {
   "cell_type": "code",
   "execution_count": 1,
   "id": "c0a6d884-a8e4-4e0a-bc85-5c495fc82d49",
   "metadata": {},
   "outputs": [],
   "source": [
    "import numpy as np\n"
   ]
  },
  {
   "cell_type": "code",
   "execution_count": 2,
   "id": "348e2d62-e162-468c-93c2-c1c32fac3d77",
   "metadata": {},
   "outputs": [],
   "source": [
    "file = open('./data/glove.twitter.27B.25d.txt')\n"
   ]
  },
  {
   "cell_type": "code",
   "execution_count": 3,
   "id": "9486f69b-12e6-411f-b809-5acff46f1c90",
   "metadata": {},
   "outputs": [
    {
     "data": {
      "text/plain": [
       "<function TextIOWrapper.close()>"
      ]
     },
     "execution_count": 3,
     "metadata": {},
     "output_type": "execute_result"
    }
   ],
   "source": [
    "glove_embeddings = {}\n",
    "for line in file:\n",
    "    values = line.split()\n",
    "    word = values[0]\n",
    "    coefs = np.asarray(values[1:], dtype='float32')\n",
    "    glove_embeddings[word]= coefs\n",
    "file.close\n"
   ]
  },
  {
   "cell_type": "code",
   "execution_count": 4,
   "id": "83f2af37-635d-427a-8bd2-32e565ae0c33",
   "metadata": {},
   "outputs": [
    {
     "data": {
      "text/plain": [
       "array([-1.2158  , -0.74924 ,  0.91941 ,  0.72985 , -0.12917 , -0.19555 ,\n",
       "        1.2365  , -0.77196 ,  0.85161 ,  0.11922 ,  0.16816 ,  0.33334 ,\n",
       "       -2.0845  , -0.53471 ,  0.013538,  0.18178 ,  1.2831  ,  0.089331,\n",
       "        0.57264 ,  0.50694 ,  0.27134 ,  0.66504 ,  0.54097 , -0.58377 ,\n",
       "        0.67097 ], dtype=float32)"
      ]
     },
     "execution_count": 4,
     "metadata": {},
     "output_type": "execute_result"
    }
   ],
   "source": [
    "glove_embeddings['frog']"
   ]
  },
  {
   "cell_type": "code",
   "execution_count": 5,
   "id": "aba1b1d0-4ca9-4b6c-95f8-b04f4deb6ed1",
   "metadata": {},
   "outputs": [
    {
     "ename": "KeyError",
     "evalue": "'<OOV>'",
     "output_type": "error",
     "traceback": [
      "\u001b[1;31m----------------------------------------------------------------\u001b[0m",
      "\u001b[1;31mKeyError\u001b[0m                       Traceback (most recent call last)",
      "Input \u001b[1;32mIn [5]\u001b[0m, in \u001b[0;36m<cell line: 1>\u001b[1;34m()\u001b[0m\n\u001b[1;32m----> 1\u001b[0m \u001b[43mglove_embeddings\u001b[49m\u001b[43m[\u001b[49m\u001b[38;5;124;43m'\u001b[39;49m\u001b[38;5;124;43m<OOV>\u001b[39;49m\u001b[38;5;124;43m'\u001b[39;49m\u001b[43m]\u001b[49m\n",
      "\u001b[1;31mKeyError\u001b[0m: '<OOV>'"
     ]
    }
   ],
   "source": [
    "glove_embeddings['<OOV>']"
   ]
  },
  {
   "cell_type": "code",
   "execution_count": null,
   "id": "08c59cdc-317b-4ff7-a1b0-87f376f79ff7",
   "metadata": {},
   "outputs": [],
   "source": []
  }
 ],
 "metadata": {
  "kernelspec": {
   "display_name": "Python 3 (ipykernel)",
   "language": "python",
   "name": "python3"
  },
  "language_info": {
   "codemirror_mode": {
    "name": "ipython",
    "version": 3
   },
   "file_extension": ".py",
   "mimetype": "text/x-python",
   "name": "python",
   "nbconvert_exporter": "python",
   "pygments_lexer": "ipython3",
   "version": "3.9.12"
  }
 },
 "nbformat": 4,
 "nbformat_minor": 5
}
